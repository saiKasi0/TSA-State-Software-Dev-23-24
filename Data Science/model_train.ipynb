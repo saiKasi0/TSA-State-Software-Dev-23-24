{
 "cells": [
  {
   "cell_type": "code",
   "execution_count": 1,
   "metadata": {},
   "outputs": [],
   "source": [
    "import model as m\n",
    "import torch\n",
    "\n",
    "\n",
    "model = m.LSTMbyHand()"
   ]
  },
  {
   "cell_type": "code",
   "execution_count": 2,
   "metadata": {},
   "outputs": [
    {
     "name": "stdout",
     "output_type": "stream",
     "text": [
      "Observed vs Predicted Values\n",
      "Company A: observed 0, predicted = tensor(0.0800)\n"
     ]
    }
   ],
   "source": [
    "print(\"Observed vs Predicted Values\")\n",
    "print(\"Company A: observed 0, predicted =\", model(torch.tensor([0., 0.5, 0.25, 1.])).detach())"
   ]
  },
  {
   "cell_type": "code",
   "execution_count": 3,
   "metadata": {},
   "outputs": [
    {
     "name": "stdout",
     "output_type": "stream",
     "text": [
      "Company B: observed = 1, predicted = tensor(0.0817)\n"
     ]
    }
   ],
   "source": [
    "print(\"Company B: observed = 1, predicted =\",  model(torch.tensor([1., 0.5, 0.25, 1.])).detach())"
   ]
  },
  {
   "attachments": {},
   "cell_type": "markdown",
   "metadata": {},
   "source": [
    "Gotta Train model because not robust"
   ]
  },
  {
   "cell_type": "code",
   "execution_count": null,
   "metadata": {},
   "outputs": [],
   "source": [
    "inputs = torch.tensor"
   ]
  }
 ],
 "metadata": {
  "kernelspec": {
   "display_name": "Python 3",
   "language": "python",
   "name": "python3"
  },
  "language_info": {
   "codemirror_mode": {
    "name": "ipython",
    "version": 3
   },
   "file_extension": ".py",
   "mimetype": "text/x-python",
   "name": "python",
   "nbconvert_exporter": "python",
   "pygments_lexer": "ipython3",
   "version": "3.9.9"
  },
  "orig_nbformat": 4
 },
 "nbformat": 4,
 "nbformat_minor": 2
}
