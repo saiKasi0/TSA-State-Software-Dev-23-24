{
 "cells": [
  {
   "cell_type": "code",
   "execution_count": null,
   "metadata": {},
   "outputs": [],
   "source": [
    "import pandas as pd\n",
    "import numpy as np\n",
    "import matplotlib.pyplot as plt\n",
    "from sklearn.preprocessing import MinMaxScaler\n",
    "import torch\n",
    "from sklearn.metrics import mean_squared_error\n",
    "from sklearn.metrics import mean_absolute_error\n",
    "import math\n"
   ]
  },
  {
   "cell_type": "code",
   "execution_count": null,
   "metadata": {},
   "outputs": [],
   "source": [
    "train_data_raw =  pd.read_csv(\"Gasleak Data Sets/sensor_readings.csv\")\n",
    "train_data_raw.columns = [\"temp\",\"Time\",\"Sensor 1\", \"Sensor 2\", \"Sensor 3\", \"Sensor 4\", \"Sensor 5\", \"Sensor 6\", \"Sensor 7\", \"Sensor 8\", \"Sensor 9\", \"Sensor 10\", \"Sensor 11\", \"Sensor 12\", \"Sensor 13\", \"Sensor 14\", \"Sensor 15\", \"Sensor 16\", \"Sensor 17\", \"Sensor 18\", \"Sensor 19\", \"Sensor 20\", \"Sensor 21\", \"Sensor 22\", \"Sensor 23\", \"Sensor 24\"]"
   ]
  },
  {
   "cell_type": "code",
   "execution_count": null,
   "metadata": {},
   "outputs": [],
   "source": [
    "test_data_raw = pd.read_csv(\"Gasleak Data Sets/validation_files/sensor_readings.csv\")\n",
    "test_data_raw.columns =  [\"temp\",\"Time\",\"Sensor 1\", \"Sensor 2\", \"Sensor 3\", \"Sensor 4\", \"Sensor 5\", \"Sensor 6\", \"Sensor 7\", \"Sensor 8\", \"Sensor 9\", \"Sensor 10\", \"Sensor 11\", \"Sensor 12\", \"Sensor 13\", \"Sensor 14\", \"Sensor 15\", \"Sensor 16\", \"Sensor 17\", \"Sensor 18\", \"Sensor 19\", \"Sensor 20\", \"Sensor 21\", \"Sensor 22\", \"Sensor 23\", \"Sensor 24\"]"
   ]
  },
  {
   "cell_type": "code",
   "execution_count": null,
   "metadata": {},
   "outputs": [],
   "source": [
    "leak_data_raw = pd.concat([train_data_raw, test_data_raw], ignore_index=True)\n",
    "leak_data = leak_data_raw.copy()\n",
    "leak_data = leak_data.iloc[3000:7000]\n",
    "leak_data = leak_data.reset_index()\n",
    "leak_data = leak_data.drop(['temp','index'], axis=1)\n",
    "leak_data['Sum'] = leak_data.iloc[:,1:].sum(axis=1)\n",
    "leak_data['Mean'] = leak_data.iloc[:,1:-1].mean(axis=1)"
   ]
  },
  {
   "cell_type": "code",
   "execution_count": null,
   "metadata": {},
   "outputs": [],
   "source": [
    "leak_data"
   ]
  },
  {
   "cell_type": "code",
   "execution_count": null,
   "metadata": {},
   "outputs": [],
   "source": [
    "def MinMax(X, col):\n",
    "    return (X - col.min()) / (col.max() - col.min())\n",
    "def invMinMax(X_scaled, col):\n",
    "    X = X_scaled * (col.max() - col.min()) + col.min()\n",
    "    return X"
   ]
  },
  {
   "cell_type": "code",
   "execution_count": null,
   "metadata": {},
   "outputs": [],
   "source": [
    "leak_data['Normalized Sensor 1'] = MinMax(leak_data['Sensor 1'], leak_data['Sensor 1'])"
   ]
  },
  {
   "cell_type": "code",
   "execution_count": null,
   "metadata": {},
   "outputs": [],
   "source": [
    "def load_data(feature, look_back):\n",
    "    data_raw = feature.values # convert to numpy array\n",
    "    data = []\n",
    "    \n",
    "    # create all possible sequences of length look_back\n",
    "    for index in range(len(data_raw) - look_back): \n",
    "        data.append(data_raw[index: index + look_back])\n",
    "    \n",
    "    data = np.array(data);\n",
    "    test_set_size = int(np.round(0.2*data.shape[0]));\n",
    "    train_set_size = data.shape[0] - (test_set_size);\n",
    "    \n",
    "    x_train = data[:train_set_size,:-1,:]\n",
    "    y_train = data[:train_set_size,-1,:]\n",
    "    \n",
    "    x_test = data[train_set_size:,:-1]\n",
    "    y_test = data[train_set_size:,-1,:]\n",
    "    \n",
    "    return [x_train, y_train, x_test, y_test]\n",
    "\n",
    "look_back = 60 # choose sequence length\n",
    "feature =  leak_data[['Normalized Sensor 1']]\n",
    "\n",
    "\n",
    "x_train, y_train, x_test, y_test = load_data(feature, look_back)\n",
    "print('x_train.shape = ',x_train.shape)\n",
    "print('y_train.shape = ',y_train.shape)\n",
    "print('x_test.shape = ',x_test.shape)\n",
    "print('y_test.shape = ',y_test.shape)"
   ]
  },
  {
   "cell_type": "code",
   "execution_count": null,
   "metadata": {},
   "outputs": [],
   "source": [
    "x_train = torch.from_numpy(x_train).type(torch.Tensor)\n",
    "x_test = torch.from_numpy(x_test).type(torch.Tensor)\n",
    "y_train = torch.from_numpy(y_train).type(torch.Tensor)\n",
    "y_test = torch.from_numpy(y_test).type(torch.Tensor)"
   ]
  },
  {
   "cell_type": "code",
   "execution_count": null,
   "metadata": {},
   "outputs": [],
   "source": [
    "import model as m\n",
    "\n",
    "input_dim = 1\n",
    "hidden_dim = 16\n",
    "num_layers = 2 \n",
    "output_dim = 1\n",
    "\n",
    "model = m.LSTM(input_dim=input_dim,hidden_dim=hidden_dim,num_layers=num_layers,output_dim=output_dim)\n",
    "\n",
    "# loss_fn = torch.nn.MSELoss()\n",
    "loss_fn = torch.nn.L1Loss()\n",
    "\n",
    "optimiser = torch.optim.Adam(model.parameters(), lr=0.01)\n",
    "\n",
    "print(model)\n",
    "print(len(list(model.parameters())))\n",
    "for i in range(len(list(model.parameters()))):\n",
    "    print(list(model.parameters())[i].size())\n"
   ]
  },
  {
   "cell_type": "code",
   "execution_count": null,
   "metadata": {},
   "outputs": [],
   "source": [
    "import os\n",
    "\n",
    "# Train model\n",
    "num_epochs = 300\n",
    "hist = np.zeros(num_epochs)\n",
    "\n",
    "# Number of steps to unroll\n",
    "seq_dim = look_back - 1\n",
    "\n",
    "# Set the checkpoint parameters\n",
    "checkpoint_dir = \"sensor_checkpoints\"  # Directory to save checkpoints\n",
    "checkpoint_interval = 10  # Save a checkpoint every 10 epochs\n",
    "start_epoch = 0  # Start from this epoch (useful for resuming training)\n",
    "\n",
    "# Create the checkpoint directory if it doesn't exist\n",
    "os.makedirs(checkpoint_dir, exist_ok=True)\n",
    "\n",
    "# Load the model state from a checkpoint (if available)\n",
    "checkpoint_path = f\"{checkpoint_dir}/checkpoint_epoch_{start_epoch}.pth\"\n",
    "if start_epoch > 0 and os.path.exists(checkpoint_path):\n",
    "    checkpoint = torch.load(checkpoint_path)\n",
    "    model.load_state_dict(checkpoint[\"model_state_dict\"])\n",
    "    optimiser.load_state_dict(checkpoint[\"optimizer_state_dict\"])\n",
    "    start_epoch = checkpoint[\"epoch\"] + 1\n",
    "    print(f\"Resuming training from epoch {start_epoch}\")\n",
    "\n",
    "for t in range(start_epoch, num_epochs):\n",
    "    # Initialise hidden state\n",
    "    # Don't do this if you want your LSTM to be stateful\n",
    "    # model.hidden = model.init_hidden()\n",
    "\n",
    "    # Forward pass\n",
    "    y_train_pred = model(x_train)\n",
    "    loss = loss_fn(y_train_pred, y_train)\n",
    "\n",
    "\n",
    "    if t % 10 == 0 and t != 0:\n",
    "        print(\"Epoch \", t, \"MAE: \", loss.item())\n",
    "    hist[t] = loss.item()\n",
    "\n",
    "    # Zero out gradient, else they will accumulate between epochs\n",
    "    optimiser.zero_grad()\n",
    "\n",
    "    # Backward pass\n",
    "    loss.backward()\n",
    "\n",
    "    # Update parameters\n",
    "    optimiser.step()\n",
    "\n",
    "    # Save a checkpoint\n",
    "    if (t + 1) % checkpoint_interval == 0:\n",
    "        checkpoint_path = f\"{checkpoint_dir}/checkpoint_epoch_{t}.pth\"\n",
    "        torch.save({\n",
    "            \"epoch\": t,\n",
    "            \"model_state_dict\": model.state_dict(),\n",
    "            \"optimizer_state_dict\": optimiser.state_dict(),\n",
    "        }, checkpoint_path)\n",
    "        print(f\"Checkpoint saved for epoch {t}\")"
   ]
  },
  {
   "cell_type": "code",
   "execution_count": null,
   "metadata": {},
   "outputs": [],
   "source": [
    "plt.plot(hist, label=\"Training loss\")\n",
    "plt.legend()\n",
    "plt.show()"
   ]
  },
  {
   "cell_type": "code",
   "execution_count": null,
   "metadata": {},
   "outputs": [],
   "source": [
    "np.mean((y_train_pred.detach().numpy()-y_train.detach().numpy()) ** 2)"
   ]
  },
  {
   "cell_type": "code",
   "execution_count": null,
   "metadata": {},
   "outputs": [],
   "source": [
    "figure, axes = plt.subplots(figsize=(15, 6))\n",
    "\n",
    "axes.plot( y_train.detach().numpy(), color = 'red', label = 'Real Sensor Data')\n",
    "axes.plot( y_train_pred.detach().numpy(), color = 'blue', label = 'Predicted Sensor Data')\n",
    "plt.title('Sensor Prediction')\n",
    "plt.xlabel('Time')\n",
    "plt.ylabel('Sensor Data')\n",
    "plt.legend()\n",
    "plt.savefig('Sensor Prediction vs Real (Train).png')\n",
    "\n",
    "plt.show()"
   ]
  },
  {
   "cell_type": "code",
   "execution_count": null,
   "metadata": {},
   "outputs": [],
   "source": [
    "# %%\n",
    "# make predictions\n",
    "y_test_pred = model(x_test)\n",
    "\n",
    "# # Implement transform\n",
    "# # invert predictions\n",
    "y_train_pred = (y_train_pred.detach().numpy())\n",
    "y_train = (y_train.detach().numpy())\n",
    "y_test_pred = (y_test_pred.detach().numpy())\n",
    "y_test = (y_test.detach().numpy())\n",
    "\n",
    "\n",
    "# invert predictions\n",
    "y_train_pred = invMinMax(y_train_pred, leak_data['Sensor 1'])\n",
    "y_train = invMinMax(y_train, leak_data['Sensor 1'])\n",
    "y_test_pred = invMinMax(y_test_pred, leak_data['Sensor 1'])\n",
    "y_test = invMinMax(y_test, leak_data['Sensor 1'])\n",
    "\n",
    "\n",
    "y_test_pred = y_test_pred\n",
    "print(type(y_train))\n",
    "\n",
    "\n",
    "\n",
    "# calculate  mean absolute error\n",
    "print(y_train[:,0], y_train_pred[:,0])\n",
    "trainScore = (mean_absolute_error(y_train[:,0], y_train_pred[:,0]))\n",
    "print('Train Score: %.2f MAE' % (trainScore))\n",
    "testScore =(mean_absolute_error(y_test[:,0], y_test_pred[:,0]))\n",
    "print('Test Score: %.2f MAE' % (testScore))\n"
   ]
  },
  {
   "cell_type": "code",
   "execution_count": null,
   "metadata": {},
   "outputs": [],
   "source": [
    "figure, axes = plt.subplots(figsize=(15, 6))\n",
    "\n",
    "axes.plot( y_test, color = 'red', label = 'Real Sensor Data')\n",
    "axes.plot( y_test_pred, color = 'blue', label = 'Predicted Sensor Data')\n",
    "plt.title('Sensor Prediction')\n",
    "plt.xlabel('Time')\n",
    "plt.ylabel('Sensor Data')\n",
    "plt.legend()\n",
    "plt.savefig('Sensor Prediction vs Real (Test).png')\n",
    "\n",
    "plt.show()"
   ]
  },
  {
   "cell_type": "code",
   "execution_count": 159,
   "metadata": {},
   "outputs": [
    {
     "data": {
      "image/png": "[encoded data removed]",
      "text/plain": [
       "<Figure size 640x480 with 1 Axes>"
      ]
     },
     "metadata": {},
     "output_type": "display_data"
    }
   ],
   "source": [
    "def get_prediction(startTime, time_after):\n",
    "\n",
    "    directory = f'Sensor_Graphs'\n",
    "    if not os.path.exists(directory):\n",
    "        os.makedirs(directory)\n",
    "    filename = os.path.join(directory, f'prediction_v_time{startTime}_to_{startTime+time_after}.png')\n",
    "\n",
    "    plt.xlabel(f\"Time since {startTime}\")\n",
    "    plt.ylabel(\"Prediction ()\")\n",
    "\n",
    "    startTime -= leak_data.loc[0,'Time']\n",
    "    current = leak_data[['Normalized Sensor 1']].iloc[startTime-look_back : startTime].to_numpy()\n",
    "    current = torch.tensor(current, dtype=torch.float32)\n",
    "    current = current.reshape(1, len(current), 1)\n",
    "\n",
    "    predictions = []\n",
    "    for _ in range(time_after):\n",
    "        pred = model(current).detach()\n",
    "        predictions.append(pred.squeeze().item())\n",
    "        current = torch.cat((current[:, 1:, :], pred.unsqueeze(1)), dim=1)\n",
    "\n",
    "    predictions = invMinMax(torch.tensor(predictions), leak_data['Sensor 1'])\n",
    "\n",
    "    plt.plot(predictions)\n",
    "    plt.savefig(filename)\n",
    "\n",
    "    plt.show()\n",
    "    \n",
    "\n",
    "get_prediction(1681779103,30)"
   ]
  },
  {
   "cell_type": "code",
   "execution_count": null,
   "metadata": {},
   "outputs": [],
   "source": [
    "leak_data[['Sensor 1']]"
   ]
  }
 ],
 "metadata": {
  "kernelspec": {
   "display_name": "Python 3",
   "language": "python",
   "name": "python3"
  },
  "language_info": {
   "codemirror_mode": {
    "name": "ipython",
    "version": 3
   },
   "file_extension": ".py",
   "mimetype": "text/x-python",
   "name": "python",
   "nbconvert_exporter": "python",
   "pygments_lexer": "ipython3",
   "version": "3.9.9"
  },
  "orig_nbformat": 4
 },
 "nbformat": 4,
 "nbformat_minor": 2
}
