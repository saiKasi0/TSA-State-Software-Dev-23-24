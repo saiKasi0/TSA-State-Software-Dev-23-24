{
 "cells": [
  {
   "cell_type": "code",
   "execution_count": 34,
   "metadata": {},
   "outputs": [
    {
     "name": "stderr",
     "output_type": "stream",
     "text": [
      "/var/folders/qt/r87857tx74n48x9wj7f9wljw0000gn/T/ipykernel_17157/2229401421.py:13: UserWarning: Could not infer format, so each element will be parsed individually, falling back to `dateutil`. To ensure parsing is consistent and as-expected, please specify a format.\n",
      "  weather_df['timestamp'] = pd.to_datetime(weather_df['timestamp']).astype(int) // 10**9\n"
     ]
    }
   ],
   "source": [
    "import pandas as pd\n",
    "import matplotlib.pyplot as plt\n",
    "\n",
    "leak_data_raw =  pd.read_csv(\"Gasleak Data Sets/sensor_readings.csv\")\n",
    "leak_data_raw.columns = [\"temp\",\"Time\",\"Sensor 1\", \"Sensor 2\", \"Sensor 3\", \"Sensor 4\", \"Sensor 5\", \"Sensor 6\", \"Sensor 7\", \"Sensor 8\", \"Sensor 9\", \"Sensor 10\", \"Sensor 11\", \"Sensor 12\", \"Sensor 13\", \"Sensor 14\", \"Sensor 15\", \"Sensor 16\", \"Sensor 17\", \"Sensor 18\", \"Sensor 19\", \"Sensor 20\", \"Sensor 21\", \"Sensor 22\", \"Sensor 23\", \"Sensor 24\"]\n",
    "\n",
    "weather_df = pd.read_csv(\"Gasleak Data Sets/weather_data.csv\")\n",
    "columns_to_average = ['Barometric_Pressure', 'Humidity', 'Temperature', 'Wind_Direction', 'Wind_Speed']\n",
    "for col in columns_to_average:\n",
    "    weather_df[col] = weather_df.groupby('timestamp')[col].transform('mean')\n",
    "weather_df = weather_df.drop_duplicates()\n",
    "weather_df['timestamp'] = pd.to_datetime(weather_df['timestamp']).astype(int) // 10**9\n",
    "\n",
    "leak_rate_df = pd.read_csv(\"Gasleak Data Sets/leak_locations_and_rate.csv\")\n"
   ]
  },
  {
   "cell_type": "code",
   "execution_count": 35,
   "metadata": {},
   "outputs": [
    {
     "data": {
      "text/html": [
       "<div>\n",
       "<style scoped>\n",
       "    .dataframe tbody tr th:only-of-type {\n",
       "        vertical-align: middle;\n",
       "    }\n",
       "\n",
       "    .dataframe tbody tr th {\n",
       "        vertical-align: top;\n",
       "    }\n",
       "\n",
       "    .dataframe thead th {\n",
       "        text-align: right;\n",
       "    }\n",
       "</style>\n",
       "<table border=\"1\" class=\"dataframe\">\n",
       "  <thead>\n",
       "    <tr style=\"text-align: right;\">\n",
       "      <th></th>\n",
       "      <th>timestamp</th>\n",
       "      <th>Barometric_Pressure</th>\n",
       "      <th>Humidity</th>\n",
       "      <th>Temperature</th>\n",
       "      <th>Wind_Direction</th>\n",
       "      <th>Wind_Speed</th>\n",
       "    </tr>\n",
       "  </thead>\n",
       "  <tbody>\n",
       "    <tr>\n",
       "      <th>0</th>\n",
       "      <td>1681776000</td>\n",
       "      <td>827.062090</td>\n",
       "      <td>31.740852</td>\n",
       "      <td>10.737401</td>\n",
       "      <td>320.568991</td>\n",
       "      <td>1.784585</td>\n",
       "    </tr>\n",
       "    <tr>\n",
       "      <th>60</th>\n",
       "      <td>1681776060</td>\n",
       "      <td>827.072498</td>\n",
       "      <td>31.765488</td>\n",
       "      <td>10.770846</td>\n",
       "      <td>309.686471</td>\n",
       "      <td>1.673587</td>\n",
       "    </tr>\n",
       "    <tr>\n",
       "      <th>120</th>\n",
       "      <td>1681776120</td>\n",
       "      <td>827.062251</td>\n",
       "      <td>31.582803</td>\n",
       "      <td>10.677768</td>\n",
       "      <td>294.296959</td>\n",
       "      <td>1.363441</td>\n",
       "    </tr>\n",
       "    <tr>\n",
       "      <th>180</th>\n",
       "      <td>1681776180</td>\n",
       "      <td>827.053569</td>\n",
       "      <td>31.905685</td>\n",
       "      <td>10.685998</td>\n",
       "      <td>275.853219</td>\n",
       "      <td>1.169298</td>\n",
       "    </tr>\n",
       "    <tr>\n",
       "      <th>240</th>\n",
       "      <td>1681776240</td>\n",
       "      <td>827.066506</td>\n",
       "      <td>31.705671</td>\n",
       "      <td>10.915012</td>\n",
       "      <td>276.878484</td>\n",
       "      <td>0.994745</td>\n",
       "    </tr>\n",
       "  </tbody>\n",
       "</table>\n",
       "</div>"
      ],
      "text/plain": [
       "      timestamp  Barometric_Pressure   Humidity  Temperature  Wind_Direction  \\\n",
       "0    1681776000           827.062090  31.740852    10.737401      320.568991   \n",
       "60   1681776060           827.072498  31.765488    10.770846      309.686471   \n",
       "120  1681776120           827.062251  31.582803    10.677768      294.296959   \n",
       "180  1681776180           827.053569  31.905685    10.685998      275.853219   \n",
       "240  1681776240           827.066506  31.705671    10.915012      276.878484   \n",
       "\n",
       "     Wind_Speed  \n",
       "0      1.784585  \n",
       "60     1.673587  \n",
       "120    1.363441  \n",
       "180    1.169298  \n",
       "240    0.994745  "
      ]
     },
     "execution_count": 35,
     "metadata": {},
     "output_type": "execute_result"
    }
   ],
   "source": [
    "weather_df.head()"
   ]
  },
  {
   "cell_type": "code",
   "execution_count": 36,
   "metadata": {},
   "outputs": [
    {
     "data": {
      "text/plain": [
       "(1440, 6)"
      ]
     },
     "execution_count": 36,
     "metadata": {},
     "output_type": "execute_result"
    }
   ],
   "source": [
    "idx = 0\n",
    "leak_and_weather_data = leak_data_raw\n",
    "t = leak_and_weather_data.at[idx,'time']\n",
    "for index, row in weather_df.iterrows():\n",
    "    "
   ]
  }
 ],
 "metadata": {
  "kernelspec": {
   "display_name": "Python 3",
   "language": "python",
   "name": "python3"
  },
  "language_info": {
   "codemirror_mode": {
    "name": "ipython",
    "version": 3
   },
   "file_extension": ".py",
   "mimetype": "text/x-python",
   "name": "python",
   "nbconvert_exporter": "python",
   "pygments_lexer": "ipython3",
   "version": "3.9.9"
  },
  "orig_nbformat": 4
 },
 "nbformat": 4,
 "nbformat_minor": 2
}
