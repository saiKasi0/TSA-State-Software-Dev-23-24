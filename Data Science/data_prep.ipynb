{
 "cells": [
  {
   "attachments": {},
   "cell_type": "markdown",
   "metadata": {},
   "source": [
    "Data Prep and Imports"
   ]
  },
  {
   "cell_type": "code",
   "execution_count": 69,
   "metadata": {},
   "outputs": [
    {
     "name": "stderr",
     "output_type": "stream",
     "text": [
      "/var/folders/qt/r87857tx74n48x9wj7f9wljw0000gn/T/ipykernel_26112/2984164557.py:13: UserWarning: Could not infer format, so each element will be parsed individually, falling back to `dateutil`. To ensure parsing is consistent and as-expected, please specify a format.\n",
      "  weather_df['timestamp'] = pd.to_datetime(weather_df['timestamp']).astype(int) // 10**9\n"
     ]
    }
   ],
   "source": [
    "import pandas as pd\n",
    "import numpy as np\n",
    "\n",
    "leak_data_raw =  pd.read_csv(\"Gasleak Data Sets/sensor_readings.csv\")\n",
    "leak_data_raw.columns = [\"temp\",\"Time\",\"Sensor 1\", \"Sensor 2\", \"Sensor 3\", \"Sensor 4\", \"Sensor 5\", \"Sensor 6\", \"Sensor 7\", \"Sensor 8\", \"Sensor 9\", \"Sensor 10\", \"Sensor 11\", \"Sensor 12\", \"Sensor 13\", \"Sensor 14\", \"Sensor 15\", \"Sensor 16\", \"Sensor 17\", \"Sensor 18\", \"Sensor 19\", \"Sensor 20\", \"Sensor 21\", \"Sensor 22\", \"Sensor 23\", \"Sensor 24\"]\n",
    "\n",
    "weather_df = pd.read_csv(\"Gasleak Data Sets/weather_data.csv\")\n",
    "columns_to_average = ['Barometric_Pressure', 'Humidity', 'Temperature', 'Wind_Direction', 'Wind_Speed']\n",
    "for col in columns_to_average:\n",
    "    weather_df[col] = weather_df.groupby('timestamp')[col].transform('mean')\n",
    "weather_df = weather_df.drop_duplicates()\n",
    "weather_df['timestamp'] = pd.to_datetime(weather_df['timestamp']).astype(int) // 10**9\n",
    "weather_df = weather_df.rename(columns={'timestamp': 'tTime'})\n",
    "\n",
    "leak_rate_df = pd.read_csv(\"Gasleak Data Sets/leak_locations_and_rate.csv\")\n",
    "leak_rate_df =  leak_rate_df[['LeakRate', 'tStart', 'tEnd', 'Duration']]\n",
    "leak_rate_df['LeakRate'] = leak_rate_df.groupby('tStart')['LeakRate'].transform('mean')\n",
    "leak_rate_df = leak_rate_df.drop_duplicates()\n"
   ]
  },
  {
   "attachments": {},
   "cell_type": "markdown",
   "metadata": {},
   "source": [
    "Merging Data Sets"
   ]
  },
  {
   "cell_type": "code",
   "execution_count": 70,
   "metadata": {},
   "outputs": [],
   "source": [
    "# Leak and weather data merge\n",
    "leak_data_raw['tTime'] = leak_data_raw['Time']\n",
    "leak_data_raw['tTime'] = pd.to_datetime(leak_data_raw['tTime'], unit='s')\n",
    "weather_df['tTime'] = pd.to_datetime(weather_df['tTime'], unit='s')\n",
    "\n",
    "leak_data_raw['tTime'] = leak_data_raw['tTime'].dt.floor('min').dt.round('min')\n",
    "df = pd.merge(leak_data_raw, weather_df, on='tTime', how='left')\n",
    "df = df.drop(['temp', 'tTime'], axis=1)"
   ]
  },
  {
   "cell_type": "code",
   "execution_count": 77,
   "metadata": {},
   "outputs": [],
   "source": [
    "# Normalizing leak intensity\n",
    "df['leak_amount'] = 0\n",
    "for index, row in leak_rate_df.iterrows():\n",
    "    in_range = df['Time'].between(row['tStart'], row['tEnd'], inclusive='both')\n",
    "    df.loc[in_range, 'leak_amount'] = np.array((row['LeakRate'] * (row['Duration'])), dtype=np.int32)\n",
    "df['leak_amount_norm'] = (df['leak_amount'] - df['leak_amount'].min()) / (df['leak_amount'].max() - df['leak_amount'].min())"
   ]
  }
 ],
 "metadata": {
  "kernelspec": {
   "display_name": "Python 3",
   "language": "python",
   "name": "python3"
  },
  "language_info": {
   "codemirror_mode": {
    "name": "ipython",
    "version": 3
   },
   "file_extension": ".py",
   "mimetype": "text/x-python",
   "name": "python",
   "nbconvert_exporter": "python",
   "pygments_lexer": "ipython3",
   "version": "3.9.9"
  },
  "orig_nbformat": 4
 },
 "nbformat": 4,
 "nbformat_minor": 2
}
