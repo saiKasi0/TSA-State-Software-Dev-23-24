{
 "cells": [
  {
   "attachments": {},
   "cell_type": "markdown",
   "metadata": {},
   "source": [
    "# Imports and Data Loading"
   ]
  },
  {
   "cell_type": "code",
   "execution_count": 63,
   "metadata": {},
   "outputs": [],
   "source": [
    "import pandas as pd\n",
    "import numpy as np\n",
    "import matplotlib.pyplot as plt\n",
    "from scipy.signal import lfilter\n",
    "\n",
    "leak_data_raw =  pd.read_csv(\"Gasleak Data Sets/sensor_readings.csv\")\n",
    "leak_data_raw.columns = [\"temp\",\"Time\",\"Sensor 1\", \"Sensor 2\", \"Sensor 3\", \"Sensor 4\", \"Sensor 5\", \"Sensor 6\", \"Sensor 7\", \"Sensor 8\", \"Sensor 9\", \"Sensor 10\", \"Sensor 11\", \"Sensor 12\", \"Sensor 13\", \"Sensor 14\", \"Sensor 15\", \"Sensor 16\", \"Sensor 17\", \"Sensor 18\", \"Sensor 19\", \"Sensor 20\", \"Sensor 21\", \"Sensor 22\", \"Sensor 23\", \"Sensor 24\"]\n",
    "\n",
    "# weather_df = pd.read_csv(\"Gasleak Data Sets/weather_data.csv\")\n",
    "# columns_to_average = ['Barometric_Pressure', 'Humidity', 'Temperature', 'Wind_Direction', 'Wind_Speed']\n",
    "# for col in columns_to_average:\n",
    "#     weather_df[col] = weather_df.groupby('timestamp')[col].transform('mean')\n",
    "# weather_df = weather_df.drop_duplicates()\n",
    "# weather_df['timestamp'] = pd.to_datetime(weather_df['timestamp']).astype(int) // 10**9\n",
    "# weather_df = weather_df.rename(columns={'timestamp': 'tTime'})\n",
    "\n",
    "# leak_rate_df = pd.read_csv(\"Gasleak Data Sets/leak_locations_and_rate.csv\")\n",
    "# leak_rate_df =  leak_rate_df[['LeakRate', 'tStart', 'tEnd', 'Duration']]\n",
    "# leak_rate_df['LeakRate'] = leak_rate_df.groupby('tStart')['LeakRate'].transform('mean')\n",
    "# leak_rate_df = leak_rate_df.drop_duplicates()\n"
   ]
  },
  {
   "attachments": {},
   "cell_type": "markdown",
   "metadata": {},
   "source": [
    "# Data Prep"
   ]
  },
  {
   "cell_type": "code",
   "execution_count": 64,
   "metadata": {},
   "outputs": [
    {
     "data": {
      "text/plain": [
       "[<matplotlib.lines.Line2D at 0x2b297eee0>]"
      ]
     },
     "execution_count": 64,
     "metadata": {},
     "output_type": "execute_result"
    },
    {
     "data": {
      "image/png": "[encoded data removed]",
      "text/plain": [
       "<Figure size 640x480 with 1 Axes>"
      ]
     },
     "metadata": {},
     "output_type": "display_data"
    }
   ],
   "source": [
    "df = leak_data_raw.drop(['temp'], axis=1)\n",
    "plt.plot(df['Time'], df['Sensor 1'], linewidth=2, linestyle=\"-\", c=\"b\") \n"
   ]
  },
  {
   "attachments": {},
   "cell_type": "markdown",
   "metadata": {},
   "source": [
    "Data is very noisy, must filter"
   ]
  },
  {
   "cell_type": "code",
   "execution_count": 65,
   "metadata": {},
   "outputs": [
    {
     "data": {
      "text/html": [
       "<div>\n",
       "<style scoped>\n",
       "    .dataframe tbody tr th:only-of-type {\n",
       "        vertical-align: middle;\n",
       "    }\n",
       "\n",
       "    .dataframe tbody tr th {\n",
       "        vertical-align: top;\n",
       "    }\n",
       "\n",
       "    .dataframe thead th {\n",
       "        text-align: right;\n",
       "    }\n",
       "</style>\n",
       "<table border=\"1\" class=\"dataframe\">\n",
       "  <thead>\n",
       "    <tr style=\"text-align: right;\">\n",
       "      <th></th>\n",
       "      <th>Time</th>\n",
       "      <th>Sensor 1</th>\n",
       "      <th>Sensor 2</th>\n",
       "      <th>Sensor 3</th>\n",
       "      <th>Sensor 4</th>\n",
       "      <th>Sensor 5</th>\n",
       "      <th>Sensor 6</th>\n",
       "      <th>Sensor 7</th>\n",
       "      <th>Sensor 8</th>\n",
       "      <th>Sensor 9</th>\n",
       "      <th>...</th>\n",
       "      <th>Sensor 16</th>\n",
       "      <th>Sensor 17</th>\n",
       "      <th>Sensor 18</th>\n",
       "      <th>Sensor 19</th>\n",
       "      <th>Sensor 20</th>\n",
       "      <th>Sensor 21</th>\n",
       "      <th>Sensor 22</th>\n",
       "      <th>Sensor 23</th>\n",
       "      <th>Sensor 24</th>\n",
       "      <th>Total</th>\n",
       "    </tr>\n",
       "  </thead>\n",
       "  <tbody>\n",
       "    <tr>\n",
       "      <th>0</th>\n",
       "      <td>0</td>\n",
       "      <td>1030.0</td>\n",
       "      <td>1049.0</td>\n",
       "      <td>1166.0</td>\n",
       "      <td>964.0</td>\n",
       "      <td>1023.0</td>\n",
       "      <td>1090.5</td>\n",
       "      <td>1039.5</td>\n",
       "      <td>1153.0</td>\n",
       "      <td>1082.0</td>\n",
       "      <td>...</td>\n",
       "      <td>735.0</td>\n",
       "      <td>1088.0</td>\n",
       "      <td>991.5</td>\n",
       "      <td>931.0</td>\n",
       "      <td>1040.0</td>\n",
       "      <td>1040.0</td>\n",
       "      <td>1111.0</td>\n",
       "      <td>1080.0</td>\n",
       "      <td>1089.0</td>\n",
       "      <td>25204.5</td>\n",
       "    </tr>\n",
       "    <tr>\n",
       "      <th>1</th>\n",
       "      <td>1</td>\n",
       "      <td>1033.0</td>\n",
       "      <td>1051.0</td>\n",
       "      <td>1163.0</td>\n",
       "      <td>974.0</td>\n",
       "      <td>993.0</td>\n",
       "      <td>1095.0</td>\n",
       "      <td>1044.0</td>\n",
       "      <td>1152.0</td>\n",
       "      <td>1085.0</td>\n",
       "      <td>...</td>\n",
       "      <td>765.0</td>\n",
       "      <td>1090.0</td>\n",
       "      <td>984.0</td>\n",
       "      <td>928.5</td>\n",
       "      <td>1043.0</td>\n",
       "      <td>1052.0</td>\n",
       "      <td>1105.5</td>\n",
       "      <td>1075.0</td>\n",
       "      <td>1095.0</td>\n",
       "      <td>25186.0</td>\n",
       "    </tr>\n",
       "    <tr>\n",
       "      <th>2</th>\n",
       "      <td>2</td>\n",
       "      <td>1022.0</td>\n",
       "      <td>1051.0</td>\n",
       "      <td>1160.0</td>\n",
       "      <td>975.5</td>\n",
       "      <td>974.0</td>\n",
       "      <td>1081.0</td>\n",
       "      <td>1049.0</td>\n",
       "      <td>1133.0</td>\n",
       "      <td>1088.0</td>\n",
       "      <td>...</td>\n",
       "      <td>762.0</td>\n",
       "      <td>1095.0</td>\n",
       "      <td>993.0</td>\n",
       "      <td>926.0</td>\n",
       "      <td>1039.0</td>\n",
       "      <td>1033.0</td>\n",
       "      <td>1100.0</td>\n",
       "      <td>1021.0</td>\n",
       "      <td>1093.0</td>\n",
       "      <td>25082.0</td>\n",
       "    </tr>\n",
       "    <tr>\n",
       "      <th>3</th>\n",
       "      <td>3</td>\n",
       "      <td>1034.0</td>\n",
       "      <td>1050.0</td>\n",
       "      <td>1165.0</td>\n",
       "      <td>977.0</td>\n",
       "      <td>988.0</td>\n",
       "      <td>1084.0</td>\n",
       "      <td>1019.0</td>\n",
       "      <td>1128.0</td>\n",
       "      <td>1091.0</td>\n",
       "      <td>...</td>\n",
       "      <td>762.0</td>\n",
       "      <td>1100.0</td>\n",
       "      <td>999.0</td>\n",
       "      <td>929.0</td>\n",
       "      <td>1047.5</td>\n",
       "      <td>1014.0</td>\n",
       "      <td>1107.0</td>\n",
       "      <td>1059.5</td>\n",
       "      <td>1110.0</td>\n",
       "      <td>25172.5</td>\n",
       "    </tr>\n",
       "    <tr>\n",
       "      <th>4</th>\n",
       "      <td>4</td>\n",
       "      <td>1037.5</td>\n",
       "      <td>1049.0</td>\n",
       "      <td>1155.0</td>\n",
       "      <td>977.0</td>\n",
       "      <td>971.0</td>\n",
       "      <td>1084.0</td>\n",
       "      <td>1027.0</td>\n",
       "      <td>1144.0</td>\n",
       "      <td>1090.5</td>\n",
       "      <td>...</td>\n",
       "      <td>763.0</td>\n",
       "      <td>1100.0</td>\n",
       "      <td>1004.5</td>\n",
       "      <td>944.0</td>\n",
       "      <td>1056.0</td>\n",
       "      <td>1019.0</td>\n",
       "      <td>1098.0</td>\n",
       "      <td>1098.0</td>\n",
       "      <td>1107.5</td>\n",
       "      <td>25176.0</td>\n",
       "    </tr>\n",
       "    <tr>\n",
       "      <th>...</th>\n",
       "      <td>...</td>\n",
       "      <td>...</td>\n",
       "      <td>...</td>\n",
       "      <td>...</td>\n",
       "      <td>...</td>\n",
       "      <td>...</td>\n",
       "      <td>...</td>\n",
       "      <td>...</td>\n",
       "      <td>...</td>\n",
       "      <td>...</td>\n",
       "      <td>...</td>\n",
       "      <td>...</td>\n",
       "      <td>...</td>\n",
       "      <td>...</td>\n",
       "      <td>...</td>\n",
       "      <td>...</td>\n",
       "      <td>...</td>\n",
       "      <td>...</td>\n",
       "      <td>...</td>\n",
       "      <td>...</td>\n",
       "      <td>...</td>\n",
       "    </tr>\n",
       "    <tr>\n",
       "      <th>83408</th>\n",
       "      <td>86393</td>\n",
       "      <td>853.0</td>\n",
       "      <td>901.0</td>\n",
       "      <td>990.0</td>\n",
       "      <td>813.0</td>\n",
       "      <td>791.0</td>\n",
       "      <td>911.0</td>\n",
       "      <td>887.0</td>\n",
       "      <td>943.0</td>\n",
       "      <td>968.0</td>\n",
       "      <td>...</td>\n",
       "      <td>661.0</td>\n",
       "      <td>1037.0</td>\n",
       "      <td>900.5</td>\n",
       "      <td>795.0</td>\n",
       "      <td>1007.0</td>\n",
       "      <td>955.0</td>\n",
       "      <td>1020.0</td>\n",
       "      <td>949.0</td>\n",
       "      <td>987.0</td>\n",
       "      <td>22096.0</td>\n",
       "    </tr>\n",
       "    <tr>\n",
       "      <th>83409</th>\n",
       "      <td>86394</td>\n",
       "      <td>852.5</td>\n",
       "      <td>899.0</td>\n",
       "      <td>1007.0</td>\n",
       "      <td>801.0</td>\n",
       "      <td>788.5</td>\n",
       "      <td>900.0</td>\n",
       "      <td>890.0</td>\n",
       "      <td>931.0</td>\n",
       "      <td>984.0</td>\n",
       "      <td>...</td>\n",
       "      <td>644.0</td>\n",
       "      <td>1056.0</td>\n",
       "      <td>901.0</td>\n",
       "      <td>799.5</td>\n",
       "      <td>1009.0</td>\n",
       "      <td>954.0</td>\n",
       "      <td>1018.0</td>\n",
       "      <td>955.0</td>\n",
       "      <td>986.0</td>\n",
       "      <td>22024.5</td>\n",
       "    </tr>\n",
       "    <tr>\n",
       "      <th>83410</th>\n",
       "      <td>86395</td>\n",
       "      <td>852.0</td>\n",
       "      <td>901.0</td>\n",
       "      <td>1011.0</td>\n",
       "      <td>811.0</td>\n",
       "      <td>786.0</td>\n",
       "      <td>909.0</td>\n",
       "      <td>899.0</td>\n",
       "      <td>945.0</td>\n",
       "      <td>967.0</td>\n",
       "      <td>...</td>\n",
       "      <td>643.0</td>\n",
       "      <td>1059.0</td>\n",
       "      <td>908.0</td>\n",
       "      <td>804.0</td>\n",
       "      <td>1016.0</td>\n",
       "      <td>961.0</td>\n",
       "      <td>1017.0</td>\n",
       "      <td>938.0</td>\n",
       "      <td>982.0</td>\n",
       "      <td>22084.0</td>\n",
       "    </tr>\n",
       "    <tr>\n",
       "      <th>83411</th>\n",
       "      <td>86396</td>\n",
       "      <td>859.0</td>\n",
       "      <td>912.0</td>\n",
       "      <td>1010.0</td>\n",
       "      <td>811.0</td>\n",
       "      <td>764.0</td>\n",
       "      <td>909.0</td>\n",
       "      <td>892.0</td>\n",
       "      <td>959.0</td>\n",
       "      <td>969.0</td>\n",
       "      <td>...</td>\n",
       "      <td>609.0</td>\n",
       "      <td>1071.0</td>\n",
       "      <td>897.0</td>\n",
       "      <td>802.0</td>\n",
       "      <td>1019.0</td>\n",
       "      <td>963.0</td>\n",
       "      <td>1026.0</td>\n",
       "      <td>948.0</td>\n",
       "      <td>990.0</td>\n",
       "      <td>22018.5</td>\n",
       "    </tr>\n",
       "    <tr>\n",
       "      <th>83412</th>\n",
       "      <td>86397</td>\n",
       "      <td>855.0</td>\n",
       "      <td>900.0</td>\n",
       "      <td>1010.0</td>\n",
       "      <td>806.0</td>\n",
       "      <td>786.0</td>\n",
       "      <td>913.0</td>\n",
       "      <td>901.0</td>\n",
       "      <td>962.0</td>\n",
       "      <td>958.0</td>\n",
       "      <td>...</td>\n",
       "      <td>640.0</td>\n",
       "      <td>1078.0</td>\n",
       "      <td>904.0</td>\n",
       "      <td>802.0</td>\n",
       "      <td>1019.0</td>\n",
       "      <td>953.0</td>\n",
       "      <td>1017.0</td>\n",
       "      <td>846.0</td>\n",
       "      <td>971.0</td>\n",
       "      <td>21932.0</td>\n",
       "    </tr>\n",
       "  </tbody>\n",
       "</table>\n",
       "<p>83413 rows × 26 columns</p>\n",
       "</div>"
      ],
      "text/plain": [
       "        Time  Sensor 1  Sensor 2  Sensor 3  Sensor 4  Sensor 5  Sensor 6  \\\n",
       "0          0    1030.0    1049.0    1166.0     964.0    1023.0    1090.5   \n",
       "1          1    1033.0    1051.0    1163.0     974.0     993.0    1095.0   \n",
       "2          2    1022.0    1051.0    1160.0     975.5     974.0    1081.0   \n",
       "3          3    1034.0    1050.0    1165.0     977.0     988.0    1084.0   \n",
       "4          4    1037.5    1049.0    1155.0     977.0     971.0    1084.0   \n",
       "...      ...       ...       ...       ...       ...       ...       ...   \n",
       "83408  86393     853.0     901.0     990.0     813.0     791.0     911.0   \n",
       "83409  86394     852.5     899.0    1007.0     801.0     788.5     900.0   \n",
       "83410  86395     852.0     901.0    1011.0     811.0     786.0     909.0   \n",
       "83411  86396     859.0     912.0    1010.0     811.0     764.0     909.0   \n",
       "83412  86397     855.0     900.0    1010.0     806.0     786.0     913.0   \n",
       "\n",
       "       Sensor 7  Sensor 8  Sensor 9  ...  Sensor 16  Sensor 17  Sensor 18  \\\n",
       "0        1039.5    1153.0    1082.0  ...      735.0     1088.0      991.5   \n",
       "1        1044.0    1152.0    1085.0  ...      765.0     1090.0      984.0   \n",
       "2        1049.0    1133.0    1088.0  ...      762.0     1095.0      993.0   \n",
       "3        1019.0    1128.0    1091.0  ...      762.0     1100.0      999.0   \n",
       "4        1027.0    1144.0    1090.5  ...      763.0     1100.0     1004.5   \n",
       "...         ...       ...       ...  ...        ...        ...        ...   \n",
       "83408     887.0     943.0     968.0  ...      661.0     1037.0      900.5   \n",
       "83409     890.0     931.0     984.0  ...      644.0     1056.0      901.0   \n",
       "83410     899.0     945.0     967.0  ...      643.0     1059.0      908.0   \n",
       "83411     892.0     959.0     969.0  ...      609.0     1071.0      897.0   \n",
       "83412     901.0     962.0     958.0  ...      640.0     1078.0      904.0   \n",
       "\n",
       "       Sensor 19  Sensor 20  Sensor 21  Sensor 22  Sensor 23  Sensor 24  \\\n",
       "0          931.0     1040.0     1040.0     1111.0     1080.0     1089.0   \n",
       "1          928.5     1043.0     1052.0     1105.5     1075.0     1095.0   \n",
       "2          926.0     1039.0     1033.0     1100.0     1021.0     1093.0   \n",
       "3          929.0     1047.5     1014.0     1107.0     1059.5     1110.0   \n",
       "4          944.0     1056.0     1019.0     1098.0     1098.0     1107.5   \n",
       "...          ...        ...        ...        ...        ...        ...   \n",
       "83408      795.0     1007.0      955.0     1020.0      949.0      987.0   \n",
       "83409      799.5     1009.0      954.0     1018.0      955.0      986.0   \n",
       "83410      804.0     1016.0      961.0     1017.0      938.0      982.0   \n",
       "83411      802.0     1019.0      963.0     1026.0      948.0      990.0   \n",
       "83412      802.0     1019.0      953.0     1017.0      846.0      971.0   \n",
       "\n",
       "         Total  \n",
       "0      25204.5  \n",
       "1      25186.0  \n",
       "2      25082.0  \n",
       "3      25172.5  \n",
       "4      25176.0  \n",
       "...        ...  \n",
       "83408  22096.0  \n",
       "83409  22024.5  \n",
       "83410  22084.0  \n",
       "83411  22018.5  \n",
       "83412  21932.0  \n",
       "\n",
       "[83413 rows x 26 columns]"
      ]
     },
     "execution_count": 65,
     "metadata": {},
     "output_type": "execute_result"
    }
   ],
   "source": [
    "leak_data = df.copy()\n",
    "leak_data['Total'] = leak_data.iloc[:,1:].sum(axis=1)\n",
    "leak_data['Time'] -= 1681776002\n",
    "leak_data"
   ]
  },
  {
   "cell_type": "code",
   "execution_count": 66,
   "metadata": {},
   "outputs": [
    {
     "data": {
      "text/plain": [
       "[<matplotlib.lines.Line2D at 0x2b287b400>]"
      ]
     },
     "execution_count": 66,
     "metadata": {},
     "output_type": "execute_result"
    },
    {
     "data": {
      "image/png": "[encoded data removed]",
      "text/plain": [
       "<Figure size 640x480 with 1 Axes>"
      ]
     },
     "metadata": {},
     "output_type": "display_data"
    }
   ],
   "source": [
    "leak_data['Total'] = pd.DataFrame(lfilter([1.0 / 10] * 10, 1, leak_data['Total']))\n",
    "plt.plot(leak_data['Time'], leak_data['Total'], linewidth=2, linestyle=\"-\", c=\"b\")  # smooth by filter"
   ]
  },
  {
   "attachments": {},
   "cell_type": "markdown",
   "metadata": {},
   "source": [
    "lot less noise"
   ]
  },
  {
   "attachments": {},
   "cell_type": "markdown",
   "metadata": {},
   "source": [
    "# Train Model"
   ]
  },
  {
   "cell_type": "code",
   "execution_count": 67,
   "metadata": {},
   "outputs": [],
   "source": [
    "# Imports\n",
    "import torch\n",
    "\n",
    "import lightning as L\n",
    "from torch.utils.data import TensorDataset, DataLoader\n",
    "import model as m\n",
    "\n",
    "\n",
    "model = m.LightningLSTM()"
   ]
  },
  {
   "cell_type": "code",
   "execution_count": 76,
   "metadata": {},
   "outputs": [
    {
     "data": {
      "text/plain": [
       "0        0.000000\n",
       "1        0.002214\n",
       "2        0.004420\n",
       "3        0.006633\n",
       "4        0.008847\n",
       "           ...   \n",
       "83408    0.017248\n",
       "83409    0.017231\n",
       "83410    0.017213\n",
       "83411    0.017197\n",
       "83412    0.017176\n",
       "Name: Total, Length: 83413, dtype: float32"
      ]
     },
     "execution_count": 76,
     "metadata": {},
     "output_type": "execute_result"
    }
   ],
   "source": [
    "normalized_sensor_total = (leak_data['Total'] - leak_data['Total'].min()) / (leak_data['Total'].max() - leak_data['Total'].min())\n",
    "normalized_sensor_total = normalized_sensor_total.astype(dtype='float32')\n",
    "\n",
    "normalized_sensor_total"
   ]
  },
  {
   "cell_type": "code",
   "execution_count": 77,
   "metadata": {},
   "outputs": [],
   "source": [
    "window_size = 60\n",
    "\n",
    "# Create a list of input sequences\n",
    "inputs = [normalized_sensor_total.iloc[i:i+window_size].values for i in range(len(normalized_sensor_total) - window_size)]\n",
    "\n",
    "# Create a list of corresponding labels\n",
    "labels = normalized_sensor_total.iloc[window_size:].values\n",
    "\n",
    "inputs = torch.tensor(np.array(inputs), dtype=torch.float32) # convert to numpy\n",
    "labels = torch.tensor(np.array(labels), dtype=torch.float32)\n",
    "\n",
    "dataset =  TensorDataset(inputs, labels) \n",
    "dataloader = DataLoader(dataset)\n"
   ]
  },
  {
   "cell_type": "code",
   "execution_count": 86,
   "metadata": {},
   "outputs": [
    {
     "name": "stderr",
     "output_type": "stream",
     "text": [
      "GPU available: True (mps), used: True\n",
      "TPU available: False, using: 0 TPU cores\n",
      "IPU available: False, using: 0 IPUs\n",
      "HPU available: False, using: 0 HPUs\n",
      "\n",
      "  | Name | Type | Params\n",
      "------------------------------\n",
      "0 | lstm | LSTM | 16    \n",
      "------------------------------\n",
      "16        Trainable params\n",
      "0         Non-trainable params\n",
      "16        Total params\n",
      "0.000     Total estimated model params size (MB)\n"
     ]
    },
    {
     "name": "stdout",
     "output_type": "stream",
     "text": [
      "Epoch 0: 100%|██████████| 83353/83353 [08:36<00:00, 161.23it/s, v_num=34]"
     ]
    },
    {
     "name": "stderr",
     "output_type": "stream",
     "text": [
      "`Trainer.fit` stopped: `max_epochs=1` reached.\n"
     ]
    },
    {
     "name": "stdout",
     "output_type": "stream",
     "text": [
      "Epoch 0: 100%|██████████| 83353/83353 [08:36<00:00, 161.23it/s, v_num=34]\n"
     ]
    }
   ],
   "source": [
    "trainer = L.Trainer(max_epochs=1)\n",
    "trainer.fit(model,train_dataloaders=dataloader)"
   ]
  },
  {
   "cell_type": "code",
   "execution_count": 50,
   "metadata": {},
   "outputs": [],
   "source": [
    "path_to_best_checkpoint = trainer.checkpoint_callback.best_model_path\n",
    "trainer = L.Trainer(max_epochs=10)\n",
    "trainer.fit(model,train_dataloaders=dataloader, ckpt_path=path_to_best_checkpoint)"
   ]
  },
  {
   "attachments": {},
   "cell_type": "markdown",
   "metadata": {},
   "source": [
    "# Test Data"
   ]
  },
  {
   "cell_type": "code",
   "execution_count": 79,
   "metadata": {},
   "outputs": [
    {
     "data": {
      "text/plain": [
       "0       -0.000434\n",
       "1        0.001491\n",
       "2        0.003422\n",
       "3        0.005343\n",
       "4        0.007275\n",
       "           ...   \n",
       "83783    0.018419\n",
       "83784    0.018399\n",
       "83785    0.018393\n",
       "83786    0.018367\n",
       "83787    0.018351\n",
       "Name: Total, Length: 83788, dtype: float32"
      ]
     },
     "execution_count": 79,
     "metadata": {},
     "output_type": "execute_result"
    }
   ],
   "source": [
    "test_data_raw = pd.read_csv(\"Gasleak Data Sets/validation_files/sensor_readings.csv\")\n",
    "test_data_raw.columns =  [\"temp\",\"Time\",\"Sensor 1\", \"Sensor 2\", \"Sensor 3\", \"Sensor 4\", \"Sensor 5\", \"Sensor 6\", \"Sensor 7\", \"Sensor 8\", \"Sensor 9\", \"Sensor 10\", \"Sensor 11\", \"Sensor 12\", \"Sensor 13\", \"Sensor 14\", \"Sensor 15\", \"Sensor 16\", \"Sensor 17\", \"Sensor 18\", \"Sensor 19\", \"Sensor 20\", \"Sensor 21\", \"Sensor 22\", \"Sensor 23\", \"Sensor 24\"]\n",
    "test_leak_data = test_data_raw.copy()\n",
    "test_leak_data = test_leak_data.drop(['temp'], axis=1)\n",
    "test_leak_data['Time'] -= 1681776002\n",
    "test_leak_data['Total'] = test_leak_data.iloc[:,1:].sum(axis=1)\n",
    "test_leak_data['Total'] = pd.DataFrame(lfilter([1.0 / 10] * 10, 1, test_leak_data['Total']))\n",
    "\n",
    "\n",
    "normalized_test_sensor_total = (test_leak_data['Total'] - leak_data['Total'].min()) / (leak_data['Total'].max() - leak_data['Total'].min())\n",
    "normalized_test_sensor_total = normalized_test_sensor_total.astype(dtype='float32')\n",
    "\n",
    "normalized_test_sensor_total"
   ]
  },
  {
   "cell_type": "code",
   "execution_count": 92,
   "metadata": {},
   "outputs": [],
   "source": [
    "# Set the window size\n",
    "window_size = 60\n",
    "\n",
    "# Create a list of input sequences\n",
    "inputs = [normalized_test_sensor_total.iloc[i:i+window_size].values for i in range(len(normalized_test_sensor_total) - window_size)]\n",
    "\n",
    "# Create a list of corresponding labels\n",
    "labels = normalized_test_sensor_total.iloc[window_size:,].values\n",
    "\n",
    "# # Convert the lists to pandas objects\n",
    "prediction_df = pd.concat([pd.DataFrame(inputs), pd.Series(labels)], axis=1)\n",
    "\n",
    "test_inputs = torch.tensor(np.array(inputs), dtype=torch.float32) # convert to numpy\n",
    "test_labels = torch.tensor(np.array(labels), dtype=torch.float32)"
   ]
  },
  {
   "cell_type": "code",
   "execution_count": 93,
   "metadata": {},
   "outputs": [
    {
     "data": {
      "text/plain": [
       "array([0.01730934, 0.01731019, 0.01730983, ..., 0.01839285, 0.01836726,\n",
       "       0.01835073], dtype=float32)"
      ]
     },
     "execution_count": 93,
     "metadata": {},
     "output_type": "execute_result"
    }
   ],
   "source": [
    "labels"
   ]
  },
  {
   "cell_type": "code",
   "execution_count": 87,
   "metadata": {},
   "outputs": [
    {
     "data": {
      "text/html": [
       "<div>\n",
       "<style scoped>\n",
       "    .dataframe tbody tr th:only-of-type {\n",
       "        vertical-align: middle;\n",
       "    }\n",
       "\n",
       "    .dataframe tbody tr th {\n",
       "        vertical-align: top;\n",
       "    }\n",
       "\n",
       "    .dataframe thead th {\n",
       "        text-align: right;\n",
       "    }\n",
       "</style>\n",
       "<table border=\"1\" class=\"dataframe\">\n",
       "  <thead>\n",
       "    <tr style=\"text-align: right;\">\n",
       "      <th></th>\n",
       "      <th>prediction_normalized</th>\n",
       "      <th>prediction</th>\n",
       "      <th>labels_normalized</th>\n",
       "      <th>labels</th>\n",
       "    </tr>\n",
       "  </thead>\n",
       "  <tbody>\n",
       "    <tr>\n",
       "      <th>0</th>\n",
       "      <td>0.017146</td>\n",
       "      <td>22021.058594</td>\n",
       "      <td>0.017309</td>\n",
       "      <td>22206.943359</td>\n",
       "    </tr>\n",
       "    <tr>\n",
       "      <th>1</th>\n",
       "      <td>0.017137</td>\n",
       "      <td>22010.726562</td>\n",
       "      <td>0.016908</td>\n",
       "      <td>21750.699219</td>\n",
       "    </tr>\n",
       "    <tr>\n",
       "      <th>2</th>\n",
       "      <td>0.017159</td>\n",
       "      <td>22036.011719</td>\n",
       "      <td>0.017874</td>\n",
       "      <td>22849.500000</td>\n",
       "    </tr>\n",
       "    <tr>\n",
       "      <th>3</th>\n",
       "      <td>0.017153</td>\n",
       "      <td>22028.917969</td>\n",
       "      <td>0.017602</td>\n",
       "      <td>22539.400391</td>\n",
       "    </tr>\n",
       "    <tr>\n",
       "      <th>4</th>\n",
       "      <td>0.017138</td>\n",
       "      <td>22012.126953</td>\n",
       "      <td>0.016938</td>\n",
       "      <td>21784.550781</td>\n",
       "    </tr>\n",
       "    <tr>\n",
       "      <th>...</th>\n",
       "      <td>...</td>\n",
       "      <td>...</td>\n",
       "      <td>...</td>\n",
       "      <td>...</td>\n",
       "    </tr>\n",
       "    <tr>\n",
       "      <th>79</th>\n",
       "      <td>0.017208</td>\n",
       "      <td>22091.296875</td>\n",
       "      <td>0.020117</td>\n",
       "      <td>25400.699219</td>\n",
       "    </tr>\n",
       "    <tr>\n",
       "      <th>80</th>\n",
       "      <td>0.017214</td>\n",
       "      <td>22098.044922</td>\n",
       "      <td>0.020132</td>\n",
       "      <td>25417.373047</td>\n",
       "    </tr>\n",
       "    <tr>\n",
       "      <th>81</th>\n",
       "      <td>0.017239</td>\n",
       "      <td>22127.003906</td>\n",
       "      <td>0.020021</td>\n",
       "      <td>25290.750000</td>\n",
       "    </tr>\n",
       "    <tr>\n",
       "      <th>82</th>\n",
       "      <td>0.017188</td>\n",
       "      <td>22068.951172</td>\n",
       "      <td>0.019102</td>\n",
       "      <td>24245.248047</td>\n",
       "    </tr>\n",
       "    <tr>\n",
       "      <th>83</th>\n",
       "      <td>0.017169</td>\n",
       "      <td>22047.121094</td>\n",
       "      <td>0.018282</td>\n",
       "      <td>23313.449219</td>\n",
       "    </tr>\n",
       "  </tbody>\n",
       "</table>\n",
       "<p>84 rows × 4 columns</p>\n",
       "</div>"
      ],
      "text/plain": [
       "    prediction_normalized    prediction  labels_normalized        labels\n",
       "0                0.017146  22021.058594           0.017309  22206.943359\n",
       "1                0.017137  22010.726562           0.016908  21750.699219\n",
       "2                0.017159  22036.011719           0.017874  22849.500000\n",
       "3                0.017153  22028.917969           0.017602  22539.400391\n",
       "4                0.017138  22012.126953           0.016938  21784.550781\n",
       "..                    ...           ...                ...           ...\n",
       "79               0.017208  22091.296875           0.020117  25400.699219\n",
       "80               0.017214  22098.044922           0.020132  25417.373047\n",
       "81               0.017239  22127.003906           0.020021  25290.750000\n",
       "82               0.017188  22068.951172           0.019102  24245.248047\n",
       "83               0.017169  22047.121094           0.018282  23313.449219\n",
       "\n",
       "[84 rows x 4 columns]"
      ]
     },
     "execution_count": 87,
     "metadata": {},
     "output_type": "execute_result"
    }
   ],
   "source": [
    "ins = []\n",
    "lab = []\n",
    "prediction_normalized = []\n",
    "for i in range(0,len(test_inputs),1000):\n",
    "    prediction_normalized.append(model(test_inputs[i]).detach())\n",
    "    ins.append(inputs[i])\n",
    "    lab.append(labels[i])\n",
    "prediction_df =  pd.DataFrame(prediction_normalized,columns=['prediction_normalized'])\n",
    "prediction_df['prediction'] = prediction_df['prediction_normalized'] * (leak_data['Total'].max() - leak_data['Total'].min()) + leak_data['Total'].min()\n",
    "prediction_df['labels_normalized'] = pd.Series(lab)\n",
    "prediction_df = prediction_df.astype('float32')\n",
    "prediction_df['labels'] = prediction_df['labels_normalized'] * (leak_data['Total'].max() - leak_data['Total'].min()) + leak_data['Total'].min()\n",
    "\n",
    "# predictions = prediction_df.iloc[57:, :-1].apply(lambda x: model(torch.tensor(x, dtype=torch.float32)), axis=1)\n",
    "\n",
    "prediction_df"
   ]
  },
  {
   "cell_type": "code",
   "execution_count": 88,
   "metadata": {},
   "outputs": [
    {
     "data": {
      "text/plain": [
       "2926.77783203125"
      ]
     },
     "execution_count": 88,
     "metadata": {},
     "output_type": "execute_result"
    }
   ],
   "source": [
    "rmse = np.sqrt( np.mean(prediction_df['prediction'] - prediction_df['labels'])**2)\n",
    "rmse #OOF"
   ]
  },
  {
   "cell_type": "code",
   "execution_count": 89,
   "metadata": {},
   "outputs": [
    {
     "data": {
      "image/png": "[encoded data removed]",
      "text/plain": [
       "<Figure size 640x480 with 1 Axes>"
      ]
     },
     "metadata": {},
     "output_type": "display_data"
    }
   ],
   "source": [
    "def graph():\n",
    "    plt.plot(prediction_df['prediction'], label='prediction')\n",
    "    plt.plot(prediction_df['labels'], label='labels')\n",
    "    plt.xlabel('Time (interval of 1000)')\n",
    "    plt.ylabel('Sensor Reading')\n",
    "    plt.title('Line Plots of Prediction Normalized and Labels Normalized')\n",
    "    plt.legend()\n",
    "    plt.show()\n",
    "graph()"
   ]
  }
 ],
 "metadata": {
  "kernelspec": {
   "display_name": "Python 3",
   "language": "python",
   "name": "python3"
  },
  "language_info": {
   "codemirror_mode": {
    "name": "ipython",
    "version": 3
   },
   "file_extension": ".py",
   "mimetype": "text/x-python",
   "name": "python",
   "nbconvert_exporter": "python",
   "pygments_lexer": "ipython3",
   "version": "3.9.9"
  },
  "orig_nbformat": 4
 },
 "nbformat": 4,
 "nbformat_minor": 2
}
