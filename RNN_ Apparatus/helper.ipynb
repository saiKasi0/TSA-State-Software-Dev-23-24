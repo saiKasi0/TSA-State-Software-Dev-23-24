#  for mathplot lib and stuff/ misaleneous code
